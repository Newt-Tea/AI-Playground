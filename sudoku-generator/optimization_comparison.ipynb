{
 "cells": [
  {
   "cell_type": "markdown",
   "metadata": {},
   "source": [
    "# Sudoku Generator Optimization Comparison\n",
    "\n",
    "This notebook explains the optimization decisions made for the Sudoku generator and compares the data and runtimes for the generator with and without the Minimum Remaining Values (MRV) heuristic."
   ]
  },
  {
   "cell_type": "markdown",
   "metadata": {},
   "source": [
    "## Optimization Decisions\n",
    "\n",
    "### 1. Minimum Remaining Values (MRV) Heuristic\n",
    "\n",
    "The MRV heuristic is used to select the cell with the fewest possible values to fill next. This helps reduce the branching factor of the search tree and speeds up the backtracking algorithm.\n",
    "\n",
    "### 2. Efficient Update of Possible Values\n",
    "\n",
    "Instead of updating the possible values for all cells after each change, we only update the cells in the same row, column, or 3x3 subgrid as the changed cell. This reduces the number of cells that need to be updated and improves efficiency."
   ]
  },
  {
   "cell_type": "markdown",
   "metadata": {},
   "source": [
    "## Comparing Data and Runtimes\n",
    "\n",
    "We will compare the data and runtimes for the Sudoku generator with and without the MRV heuristic. The comparison will be done by generating Sudoku puzzles and measuring the time taken for each approach."
   ]
  },
  {
   "cell_type": "code",
   "execution_count": 1,
   "metadata": {},
   "outputs": [
    {
     "ename": "ModuleNotFoundError",
     "evalue": "No module named 'generator'",
     "output_type": "error",
     "traceback": [
      "\u001b[0;31m---------------------------------------------------------------------------\u001b[0m",
      "\u001b[0;31mModuleNotFoundError\u001b[0m                       Traceback (most recent call last)",
      "Cell \u001b[0;32mIn[1], line 2\u001b[0m\n\u001b[1;32m      1\u001b[0m \u001b[38;5;28;01mimport\u001b[39;00m\u001b[38;5;250m \u001b[39m\u001b[38;5;21;01mtime\u001b[39;00m\n\u001b[0;32m----> 2\u001b[0m \u001b[38;5;28;01mfrom\u001b[39;00m\u001b[38;5;250m \u001b[39m\u001b[38;5;21;01msrc\u001b[39;00m\u001b[38;5;21;01m.\u001b[39;00m\u001b[38;5;21;01mgenerator\u001b[39;00m\u001b[38;5;250m \u001b[39m\u001b[38;5;28;01mimport\u001b[39;00m SudokuGenerator\n\u001b[1;32m      4\u001b[0m \u001b[38;5;28;01mdef\u001b[39;00m\u001b[38;5;250m \u001b[39m\u001b[38;5;21mmeasure_runtime\u001b[39m(use_mrv):\n\u001b[1;32m      5\u001b[0m     generator \u001b[38;5;241m=\u001b[39m SudokuGenerator()\n",
      "File \u001b[0;32m/workspaces/AI-Playground/sudoku-generator/src/__init__.py:1\u001b[0m\n\u001b[0;32m----> 1\u001b[0m \u001b[38;5;28;01mfrom\u001b[39;00m\u001b[38;5;250m \u001b[39m\u001b[38;5;21;01mgenerator\u001b[39;00m\u001b[38;5;250m \u001b[39m\u001b[38;5;28;01mimport\u001b[39;00m SudokuGenerator\n\u001b[1;32m      2\u001b[0m \u001b[38;5;28;01mfrom\u001b[39;00m\u001b[38;5;250m \u001b[39m\u001b[38;5;21;01msolver\u001b[39;00m\u001b[38;5;250m \u001b[39m\u001b[38;5;28;01mimport\u001b[39;00m SudokuSolver\n\u001b[1;32m      3\u001b[0m \u001b[38;5;28;01mimport\u001b[39;00m\u001b[38;5;250m \u001b[39m\u001b[38;5;21;01mtime\u001b[39;00m\n",
      "\u001b[0;31mModuleNotFoundError\u001b[0m: No module named 'generator'"
     ]
    }
   ],
   "source": [
    "import time\n",
    "import sys\n",
    "import os\n",
    "\n",
    "# Add the src directory to the Python path\n",
    "sys.path.append(os.path.abspath(os.path.join(os.getcwd(), 'src')))\n",
    "\n",
    "from generator import SudokuGenerator\n",
    "\n",
    "def measure_runtime(use_mrv):\n",
    "    generator = SudokuGenerator()\n",
    "    start_time = time.time()\n",
    "    generator.fill_grid(use_mrv=use_mrv)\n",
    "    end_time = time.time()\n",
    "    return end_time - start_time\n",
    "\n",
    "num_trials = 10\n",
    "runtimes_without_mrv = []\n",
    "runtimes_with_mrv = []\n",
    "\n",
    "for _ in range(num_trials):\n",
    "    runtimes_without_mrv.append(measure_runtime(use_mrv=False))\n",
    "    runtimes_with_mrv.append(measure_runtime(use_mrv=True))\n",
    "\n",
    "avg_runtime_without_mrv = sum(runtimes_without_mrv) / num_trials\n",
    "avg_runtime_with_mrv = sum(runtimes_with_mrv) / num_trials\n",
    "\n",
    "print(f\"Average runtime without MRV: {avg_runtime_without_mrv:.4f} seconds\")\n",
    "print(f\"Average runtime with MRV: {avg_runtime_with_mrv:.4f} seconds\")"
   ]
  },
  {
   "cell_type": "markdown",
   "metadata": {},
   "source": [
    "## Results\n",
    "\n",
    "The average runtimes for the Sudoku generator with and without the MRV heuristic are displayed above. The MRV heuristic is expected to reduce the average runtime by selecting the cell with the fewest possible values to fill next, thereby reducing the branching factor of the search tree."
   ]
  }
 ],
 "metadata": {
  "kernelspec": {
   "display_name": "Python 3",
   "language": "python",
   "name": "python3"
  },
  "language_info": {
   "codemirror_mode": {
    "name": "ipython",
    "version": 3
   },
   "file_extension": ".py",
   "mimetype": "text/x-python",
   "name": "python",
   "nbconvert_exporter": "python",
   "pygments_lexer": "ipython3",
   "version": "3.9.21"
  }
 },
 "nbformat": 4,
 "nbformat_minor": 4
}
